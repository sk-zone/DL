{
  "nbformat": 4,
  "nbformat_minor": 0,
  "metadata": {
    "colab": {
      "provenance": []
    },
    "kernelspec": {
      "name": "python3",
      "display_name": "Python 3"
    },
    "language_info": {
      "name": "python"
    }
  },
  "cells": [
    {
      "cell_type": "code",
      "execution_count": null,
      "metadata": {
        "colab": {
          "base_uri": "https://localhost:8080/"
        },
        "id": "rPI14OOSm1Cw",
        "outputId": "19588791-802d-494d-8b93-ffa2b1ec22f5"
      },
      "outputs": [
        {
          "output_type": "stream",
          "name": "stdout",
          "text": [
            "0.35667494393873245\n"
          ]
        }
      ],
      "source": [
        "import math\n",
        "#an example output from the output layer of the neural network\n",
        "softmax_output = [0.7, 0.1, 0.2]\n",
        "#ground truth\n",
        "target_output = [1, 0, 0]\n",
        "loss = -(math.log(softmax_output[0])*target_output[0] +\n",
        "math.log(softmax_output[1])*target_output[1] +\n",
        "math.log(softmax_output[2])*target_output[2])\n",
        "print(loss)"
      ]
    },
    {
      "cell_type": "code",
      "source": [
        "import numpy as np\n",
        "\n",
        "softmax_outputs = np.array([[0.7, 0.1, 0.2],\n",
        "                            [0.1, 0.5, 0.4],\n",
        "                            [0.02, 0.9, 0.08]])\n",
        "\n",
        "class_targets = np.array([[1, 0, 0],  #dog\n",
        "                          [0, 1, 0],  #cat\n",
        "                          [0, 1, 0]]) #cat\n",
        "\n",
        "#probabilities for target values (sparse or one-hot encoded)\n",
        "if len(class_targets.shape) == 1:  #sparse\n",
        "    correct_confidences = softmax_outputs[\n",
        "        range(len(softmax_outputs)),\n",
        "        class_targets\n",
        "    ]\n",
        "elif len(class_targets.shape) == 2:  #one-hot encoded\n",
        "    correct_confidences = np.sum(softmax_outputs * class_targets, axis=1)\n",
        "\n",
        "#compute the negative log\n",
        "neg_log = -np.log(correct_confidences)\n",
        "\n",
        "#calculate the average loss\n",
        "average_loss = np.mean(neg_log)\n",
        "print(average_loss)\n"
      ],
      "metadata": {
        "colab": {
          "base_uri": "https://localhost:8080/"
        },
        "id": "whM6yv5GstRw",
        "outputId": "f70c2155-c9eb-4154-cfb0-ce31466fedf4"
      },
      "execution_count": null,
      "outputs": [
        {
          "output_type": "stream",
          "name": "stdout",
          "text": [
            "0.38506088005216804\n"
          ]
        }
      ]
    },
    {
      "cell_type": "code",
      "source": [
        "import numpy as np\n",
        "\n",
        "            #zip Function\n",
        "softmax_outputs = np.array([[ 0.7 , 0.1 , 0.2 ],\n",
        "                            [ 0.1 , 0.5 , 0.4 ],\n",
        "                            [ 0.02 , 0.9 , 0.08 ]])\n",
        "class_target = [0,1,1]\n",
        "\n",
        "print(\"Length : \",len(softmax_outputs))\n",
        "print(\"Shape : \",softmax_outputs.shape)\n",
        "\n",
        "for indx, distribution in  zip(class_target, softmax_outputs):\n",
        "    print(distribution[indx])\n",
        "\n",
        "print(softmax_outputs[[0,1,2], class_target])   #0,1,2 define the row\n",
        "b=softmax_outputs[range(len(softmax_outputs)), class_target]\n",
        "print(\"here We are\", b)  #size of array can also work\n",
        "\n",
        "#print(softmax_outputs[range(0,3), class_target])\n",
        "\n",
        "#aapply Cross entropy on this values\n",
        "print(\"Final CE\", -np.log(softmax_outputs[range(len(softmax_outputs)), class_target]))\n",
        "\n",
        "cal = -np.log(softmax_outputs[range(len(softmax_outputs)), class_target])\n",
        "average_loss = np.mean(cal)\n",
        "print(average_loss)"
      ],
      "metadata": {
        "colab": {
          "base_uri": "https://localhost:8080/"
        },
        "id": "0LkteZOWv8In",
        "outputId": "70747eb6-2627-4d58-aa5d-c2571bf43cf4"
      },
      "execution_count": null,
      "outputs": [
        {
          "output_type": "stream",
          "name": "stdout",
          "text": [
            "Length :  3\n",
            "Shape :  (3, 3)\n",
            "0.7\n",
            "0.5\n",
            "0.9\n",
            "[0.7 0.5 0.9]\n",
            "here We are [0.7 0.5 0.9]\n",
            "Final CE [0.35667494 0.69314718 0.10536052]\n",
            "0.38506088005216804\n"
          ]
        }
      ]
    }
  ]
}